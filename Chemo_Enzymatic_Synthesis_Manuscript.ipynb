{
 "cells": [
  {
   "cell_type": "markdown",
   "metadata": {},
   "source": [
    "ASKCOS is publicly available at https://askcos.mit.edu/. The tool's algorithms are avilable for review in the folder attached with the manuscript. Key dependencies include rdkit and rdchiral (https://pypi.org/project/rdchiral/)"
   ]
  },
  {
   "cell_type": "markdown",
   "metadata": {},
   "source": [
    "# 1. Chemoenzymatic synthesis algorithm"
   ]
  },
  {
   "cell_type": "code",
   "execution_count": 1,
   "metadata": {},
   "outputs": [
    {
     "name": "stderr",
     "output_type": "stream",
     "text": [
      "RDKit WARNING: [10:59:09] Enabling RDKit 2019.09.3 jupyter extensions\n"
     ]
    }
   ],
   "source": [
    "import pandas as pd\n",
    "from typing import List, Tuple\n",
    "from rdchiral.initialization import rdchiralReaction, rdchiralReactants\n",
    "from rdchiral.main import rdchiralRun\n",
    "import os\n",
    "\n",
    "class parse_askcos_output:\n",
    "    '''Parse the results of the tree search'''\n",
    "    \n",
    "    def __init__(self):\n",
    "        \n",
    "        #get tree input\n",
    "        self.askcos_output = None\n",
    "        \n",
    "        #load template set\n",
    "        self.template_set= pd.read_pickle(os.getcwd()+\"/retrobiocat_database.pkl\")\n",
    "        \n",
    "    def _initialize (self,result):\n",
    "        '''Initialize the class with the tree search'''\n",
    "        \n",
    "        self.askcos_output = result\n",
    "    \n",
    "    def get_all_trees (self):\n",
    "        '''Given the raw tree search output,  get individual trees as a list'''\n",
    "        return (self.askcos_output['result']['result']['paths'])\n",
    "    \n",
    "    def get_branch_by_ix(self,ix):\n",
    "        '''Get a single branch by index'''\n",
    "        return (self.get_all_trees()[ix])\n",
    "    \n",
    "    def get_children_fromDict(self, input_dict):\n",
    "        '''given input dict, get children list'''\n",
    "        return (input_dict['children'])\n",
    "    \n",
    "    def get_rxnsmiles_fromDict(self, input_dict):\n",
    "        '''given input dict, get children list'''\n",
    "        if '>>' in input_dict['smiles']:\n",
    "            return(input_dict['smiles'])\n",
    "    \n",
    "    def get_all_rxn_smiles(self,branch):\n",
    "        '''Given a single branch, fish out all reaction SMILES'''\n",
    "\n",
    "        #initiate the list that accumulates reaction SMILES\n",
    "        rxn_smiles = []\n",
    "        nextDicts_to_parse = []\n",
    "        nextDicts_to_parse.append (branch)\n",
    "\n",
    "        #while there are children -> parse it; the first node is always the target -> no need to parse\n",
    "        while True :\n",
    "\n",
    "            nextDicts_to_parse2 = []\n",
    "\n",
    "            for dictionary in nextDicts_to_parse:\n",
    "\n",
    "                #get the children as list\n",
    "                children = self.get_children_fromDict(dictionary)\n",
    "\n",
    "                #parse the children list\n",
    "                for child in children:\n",
    "                    #each child is another dictionary\n",
    "\n",
    "                    #parse the dictionary to get rxn smiles (if any)\n",
    "                    if self.get_rxnsmiles_fromDict(child) is not None:\n",
    "                        rxn_smiles.append (self.get_rxnsmiles_fromDict(child))\n",
    "                        #print(rxn_smiles)\n",
    "\n",
    "                    #parse the dictionary to get the nextDict_to_parse2\n",
    "                    next_children = self.get_children_fromDict(child)\n",
    "                    for new_child in next_children:\n",
    "                        nextDicts_to_parse2.append(new_child)\n",
    "\n",
    "            nextDicts_to_parse = nextDicts_to_parse2\n",
    "            #print (nextDicts_to_parse)\n",
    "            if bool (nextDicts_to_parse) is False:\n",
    "                break\n",
    "\n",
    "        return (rxn_smiles)\n",
    "    \n",
    "    def enzymatic_step_id(self,\n",
    "        template_set: pd.DataFrame, prod_smiles: str, react_smiles_list: List[str]\n",
    "    ) -> List:\n",
    "        \"\"\"Given a product SMILES and a list of possible candidate reactants, is there an enzymatic\n",
    "        retrosynthetic template that can link the product to one of the cadidate reactants?\"\"\"\n",
    "\n",
    "        # load the product as a RDChiral object\n",
    "        prod = rdchiralReactants(prod_smiles)\n",
    "\n",
    "        # results storage list\n",
    "        results = []\n",
    "\n",
    "        # loop through the template set\n",
    "        for idx, name, rxn_smarts, rxn_type in template_set.itertuples():\n",
    "            # load reaction to RDChiral reaction\n",
    "            rxn = rdchiralReaction(rxn_smarts)\n",
    "\n",
    "            # apply the template\n",
    "            outcomes = rdchiralRun(rxn, prod, combine_enantiomers=False)\n",
    "\n",
    "            # parse the outcomes\n",
    "            for precursors in outcomes:\n",
    "                # if one of the precursors is a preceding reactant in the tree search result- then consider\n",
    "                # as result. Otherwise, move to next precursor\n",
    "                precursor_list = precursors.split (\".\")\n",
    "                \n",
    "                for react_smiles in react_smiles_list:\n",
    "                    check = False\n",
    "                    check =  all(item in react_smiles for item in precursor_list)\n",
    "                    if check is True:\n",
    "                        results.append((name, rxn_smarts, rxn_type, precursors+'>>'+prod_smiles))\n",
    "\n",
    "        return results\n",
    "    \n",
    "\n",
    "    def convert_all_rxnlist_toDict (self, all_rxns):\n",
    "        '''Give a list of reactions, convert to a dictionary prod -> react'''\n",
    "        #create a dictionary that correlates products to reactants\n",
    "        rxn_summary = {}\n",
    "\n",
    "        for individ_rxn in all_rxns:\n",
    "            rct = individ_rxn.split('>>')[0]\n",
    "            prod = individ_rxn.split('>>')[1]\n",
    "            rxn_summary[prod] = rct\n",
    "\n",
    "        return (rxn_summary)\n",
    "\n",
    "    def get_hopping_list (self, target, all_rxns_dict,result = None):\n",
    "        '''Given a target, get all possible set of reactants'''\n",
    "\n",
    "        if result is None:\n",
    "            result = []\n",
    "\n",
    "        if target not in all_rxns_dict.keys():\n",
    "            return None\n",
    "\n",
    "        else:\n",
    "            result.append (all_rxns_dict[target])\n",
    "            self.get_hopping_list (all_rxns_dict[target], all_rxns_dict, result)\n",
    "        \n",
    "        return result\n",
    "\n",
    "    def get_rcts_list (self, rxn_smiles, all_rxns_list):\n",
    "        '''Given a product, get the reactants that could produce it'''\n",
    "        product = rxn_smiles.split ('>>')[1]\n",
    "\n",
    "        all_rxns_dict = self.convert_all_rxnlist_toDict (all_rxns_list)\n",
    "        rct_list = self.get_hopping_list (product, all_rxns_dict,result= None)\n",
    "\n",
    "        #get reactants split by '.'\n",
    "        rct_list_split = []\n",
    "        for rct in rct_list:\n",
    "            rct_list_split.append(rct.split ('.'))\n",
    "\n",
    "        return rct_list_split\n",
    "    \n",
    "    def is_rxn_enzymatic (self, template_set, rxn_smiles, all_rxns_list):\n",
    "        '''Takes reaction SMILES as input and provides potential enzymatic suggestions'''\n",
    "        prod_smiles = rxn_smiles.split ('>>')[1]\n",
    "        react_smiles_list = self. get_rcts_list (rxn_smiles, all_rxns_list)\n",
    "\n",
    "        return self.enzymatic_step_id (template_set,prod_smiles, react_smiles_list)\n",
    "\n",
    "    def do_one_branch (self, ix):\n",
    "        '''Give index as input, get # of enzymes as output'''\n",
    "        \n",
    "        #get branch\n",
    "        branch = self.get_branch_by_ix(ix)\n",
    "        \n",
    "        #get all reaction SMILES\n",
    "        all_rxn_smiles = self.get_all_rxn_smiles (branch)\n",
    "        \n",
    "        enzyme_list = []\n",
    "        \n",
    "        for rxn_smiles in all_rxn_smiles:\n",
    "            enzyme = self.is_rxn_enzymatic (self.template_set, rxn_smiles, all_rxn_smiles)\n",
    "            if bool(enzyme) is True:\n",
    "                enzyme_list.append(enzyme)\n",
    "        \n",
    "        return (len(enzyme_list))\n",
    "    \n",
    "    def do_one_branch_detailed (self,ix):\n",
    "        '''Give index as input, get enzymes as output'''\n",
    "        \n",
    "        #get branch\n",
    "        branch = self.get_branch_by_ix(ix)\n",
    "        \n",
    "        #get all reaction SMILES\n",
    "        all_rxn_smiles = self.get_all_rxn_smiles (branch)\n",
    "        \n",
    "        enzyme_list = []\n",
    "        \n",
    "        for rxn_smiles in all_rxn_smiles:\n",
    "            enzyme = self.is_rxn_enzymatic (self.template_set, rxn_smiles, all_rxn_smiles)\n",
    "            print ('The reaction SMILES is:{}'.format (rxn_smiles))\n",
    "            print ('The product SMILES is: {}'.format (rxn_smiles.split ('>>')[1]))\n",
    "            print ('The reactant SMILES list is: {}'.format (self. get_rcts_list (rxn_smiles, all_rxn_smiles)))\n",
    "            if bool(enzyme) is True:\n",
    "                enzyme_list.append(enzyme)\n",
    "                print ('Enzyme name is: {}'.format (enzyme))\n",
    "            else:\n",
    "                print ('No enzymes applicable')\n",
    "        \n",
    "        return (enzyme_list)"
   ]
  },
  {
   "cell_type": "markdown",
   "metadata": {},
   "source": [
    "## 2. Duloxetine"
   ]
  },
  {
   "cell_type": "markdown",
   "metadata": {},
   "source": [
    "Duloxetine is presented as an example of multi-step chemoenzymatic synthesis planned using MCTS."
   ]
  },
  {
   "cell_type": "code",
   "execution_count": 5,
   "metadata": {},
   "outputs": [],
   "source": [
    "import pickle\n",
    "with open('duloxetine_manuscript.pkl', 'rb') as f:\n",
    "    task_result = pickle.load(f)"
   ]
  },
  {
   "cell_type": "code",
   "execution_count": 6,
   "metadata": {},
   "outputs": [],
   "source": [
    "test = parse_askcos_output()\n",
    "test._initialize (task_result)"
   ]
  },
  {
   "cell_type": "code",
   "execution_count": 7,
   "metadata": {},
   "outputs": [
    {
     "data": {
      "text/plain": [
       "260"
      ]
     },
     "execution_count": 7,
     "metadata": {},
     "output_type": "execute_result"
    }
   ],
   "source": [
    "len (test.get_all_trees())"
   ]
  },
  {
   "cell_type": "code",
   "execution_count": 8,
   "metadata": {},
   "outputs": [
    {
     "name": "stdout",
     "output_type": "stream",
     "text": [
      "The amount of time taken is 489.5788583755493s\n"
     ]
    }
   ],
   "source": [
    "import time\n",
    "\n",
    "#start timing the process\n",
    "start = time.time()\n",
    "\n",
    "#get the number of enzymes in the sitagliptin case study\n",
    "duloxetine_test = {}\n",
    "for ix in range (len(test.get_all_trees())):\n",
    "    duloxetine_test[ix] = test.do_one_branch(ix)\n",
    "\n",
    "#end it\n",
    "end = time.time()\n",
    "print('The amount of time taken is {}s'. format(end - start))"
   ]
  },
  {
   "cell_type": "code",
   "execution_count": 9,
   "metadata": {},
   "outputs": [
    {
     "name": "stdout",
     "output_type": "stream",
     "text": [
      "Total number of chemo-enzymatic pathways: 195\n"
     ]
    }
   ],
   "source": [
    "num_chemenz = 0\n",
    "for item in duloxetine_test.values():\n",
    "    if item != 0:\n",
    "        num_chemenz += 1\n",
    "print ('Total number of chemo-enzymatic pathways: {}'.format (num_chemenz))"
   ]
  },
  {
   "cell_type": "code",
   "execution_count": 10,
   "metadata": {},
   "outputs": [
    {
     "data": {
      "text/plain": [
       "3"
      ]
     },
     "execution_count": 10,
     "metadata": {},
     "output_type": "execute_result"
    }
   ],
   "source": [
    "max (duloxetine_test.values())"
   ]
  },
  {
   "cell_type": "code",
   "execution_count": 11,
   "metadata": {},
   "outputs": [
    {
     "data": {
      "text/plain": [
       "Counter({0: 65, 1: 133, 2: 37, 3: 25})"
      ]
     },
     "execution_count": 11,
     "metadata": {},
     "output_type": "execute_result"
    }
   ],
   "source": [
    "from collections import Counter\n",
    "Counter (duloxetine_test.values())"
   ]
  },
  {
   "cell_type": "code",
   "execution_count": 12,
   "metadata": {},
   "outputs": [
    {
     "data": {
      "image/png": "[encoded data removed]",
      "text/plain": [
       "<Figure size 432x288 with 1 Axes>"
      ]
     },
     "metadata": {
      "needs_background": "light"
     },
     "output_type": "display_data"
    }
   ],
   "source": [
    "#plot a histogram\n",
    "import matplotlib.pyplot as plt\n",
    "\n",
    "num_chemenz_hist = duloxetine_test.values()\n",
    "\n",
    "plt.hist(num_chemenz_hist, bins = [0,1,2,3,4],rwidth = 0.5)\n",
    "plt.xticks(ticks =[0.5,1.5,2.5, 3.5], labels = [0,1,2,3])\n",
    "plt.ylabel ('Number of pathways')\n",
    "plt.xlabel ('Number of enzymatic steps')\n",
    "plt.show()"
   ]
  },
  {
   "cell_type": "code",
   "execution_count": 10,
   "metadata": {},
   "outputs": [
    {
     "data": {
      "text/plain": [
       "{0: 0,\n",
       " 1: 1,\n",
       " 2: 0,\n",
       " 3: 0,\n",
       " 4: 1,\n",
       " 5: 0,\n",
       " 6: 1,\n",
       " 7: 0,\n",
       " 8: 0,\n",
       " 9: 0,\n",
       " 10: 1,\n",
       " 11: 0,\n",
       " 12: 1,\n",
       " 13: 0,\n",
       " 14: 0,\n",
       " 15: 1,\n",
       " 16: 0,\n",
       " 17: 0,\n",
       " 18: 0,\n",
       " 19: 0,\n",
       " 20: 0,\n",
       " 21: 2,\n",
       " 22: 2,\n",
       " 23: 2,\n",
       " 24: 1,\n",
       " 25: 1,\n",
       " 26: 1,\n",
       " 27: 1,\n",
       " 28: 1,\n",
       " 29: 1,\n",
       " 30: 1,\n",
       " 31: 1,\n",
       " 32: 1,\n",
       " 33: 0,\n",
       " 34: 1,\n",
       " 35: 3,\n",
       " 36: 3,\n",
       " 37: 3,\n",
       " 38: 3,\n",
       " 39: 0,\n",
       " 40: 0,\n",
       " 41: 3,\n",
       " 42: 3,\n",
       " 43: 1,\n",
       " 44: 3,\n",
       " 45: 3,\n",
       " 46: 3,\n",
       " 47: 3,\n",
       " 48: 3,\n",
       " 49: 3,\n",
       " 50: 3,\n",
       " 51: 3,\n",
       " 52: 3,\n",
       " 53: 3,\n",
       " 54: 3,\n",
       " 55: 3,\n",
       " 56: 3,\n",
       " 57: 3,\n",
       " 58: 1,\n",
       " 59: 1,\n",
       " 60: 2,\n",
       " 61: 1,\n",
       " 62: 3,\n",
       " 63: 3,\n",
       " 64: 1,\n",
       " 65: 2,\n",
       " 66: 1,\n",
       " 67: 2,\n",
       " 68: 3,\n",
       " 69: 3,\n",
       " 70: 1,\n",
       " 71: 1,\n",
       " 72: 1,\n",
       " 73: 2,\n",
       " 74: 2,\n",
       " 75: 1,\n",
       " 76: 1,\n",
       " 77: 1,\n",
       " 78: 1,\n",
       " 79: 1,\n",
       " 80: 0,\n",
       " 81: 0,\n",
       " 82: 0,\n",
       " 83: 0,\n",
       " 84: 0,\n",
       " 85: 0,\n",
       " 86: 2,\n",
       " 87: 2,\n",
       " 88: 0,\n",
       " 89: 0,\n",
       " 90: 0,\n",
       " 91: 0,\n",
       " 92: 0,\n",
       " 93: 2,\n",
       " 94: 1,\n",
       " 95: 1,\n",
       " 96: 1,\n",
       " 97: 1,\n",
       " 98: 1,\n",
       " 99: 1,\n",
       " 100: 1,\n",
       " 101: 1,\n",
       " 102: 1,\n",
       " 103: 0,\n",
       " 104: 0,\n",
       " 105: 1,\n",
       " 106: 0,\n",
       " 107: 0,\n",
       " 108: 1,\n",
       " 109: 1,\n",
       " 110: 1,\n",
       " 111: 1,\n",
       " 112: 1,\n",
       " 113: 1,\n",
       " 114: 1,\n",
       " 115: 1,\n",
       " 116: 0,\n",
       " 117: 1,\n",
       " 118: 1,\n",
       " 119: 1,\n",
       " 120: 1,\n",
       " 121: 1,\n",
       " 122: 2,\n",
       " 123: 1,\n",
       " 124: 1,\n",
       " 125: 2,\n",
       " 126: 2,\n",
       " 127: 0,\n",
       " 128: 1,\n",
       " 129: 0,\n",
       " 130: 0,\n",
       " 131: 1,\n",
       " 132: 0,\n",
       " 133: 0,\n",
       " 134: 0,\n",
       " 135: 0,\n",
       " 136: 0,\n",
       " 137: 0,\n",
       " 138: 1,\n",
       " 139: 0,\n",
       " 140: 2,\n",
       " 141: 1,\n",
       " 142: 2,\n",
       " 143: 0,\n",
       " 144: 1,\n",
       " 145: 1,\n",
       " 146: 1,\n",
       " 147: 1,\n",
       " 148: 1,\n",
       " 149: 1,\n",
       " 150: 1,\n",
       " 151: 1,\n",
       " 152: 1,\n",
       " 153: 1,\n",
       " 154: 1,\n",
       " 155: 1,\n",
       " 156: 1,\n",
       " 157: 1,\n",
       " 158: 1,\n",
       " 159: 1,\n",
       " 160: 1,\n",
       " 161: 1,\n",
       " 162: 1,\n",
       " 163: 1,\n",
       " 164: 1,\n",
       " 165: 2,\n",
       " 166: 1,\n",
       " 167: 1,\n",
       " 168: 2,\n",
       " 169: 2,\n",
       " 170: 2,\n",
       " 171: 1,\n",
       " 172: 1,\n",
       " 173: 1,\n",
       " 174: 2,\n",
       " 175: 1,\n",
       " 176: 2,\n",
       " 177: 2,\n",
       " 178: 2,\n",
       " 179: 2,\n",
       " 180: 2,\n",
       " 181: 2,\n",
       " 182: 2,\n",
       " 183: 0,\n",
       " 184: 1,\n",
       " 185: 1,\n",
       " 186: 1,\n",
       " 187: 0,\n",
       " 188: 0,\n",
       " 189: 0,\n",
       " 190: 0,\n",
       " 191: 2,\n",
       " 192: 1,\n",
       " 193: 0,\n",
       " 194: 2,\n",
       " 195: 2,\n",
       " 196: 2,\n",
       " 197: 0,\n",
       " 198: 1,\n",
       " 199: 1,\n",
       " 200: 0,\n",
       " 201: 0,\n",
       " 202: 0,\n",
       " 203: 1,\n",
       " 204: 1,\n",
       " 205: 3,\n",
       " 206: 1,\n",
       " 207: 2,\n",
       " 208: 0,\n",
       " 209: 0,\n",
       " 210: 0,\n",
       " 211: 0,\n",
       " 212: 0,\n",
       " 213: 1,\n",
       " 214: 1,\n",
       " 215: 2,\n",
       " 216: 1,\n",
       " 217: 1,\n",
       " 218: 1,\n",
       " 219: 0,\n",
       " 220: 0,\n",
       " 221: 0,\n",
       " 222: 0,\n",
       " 223: 0,\n",
       " 224: 2,\n",
       " 225: 2,\n",
       " 226: 2,\n",
       " 227: 1,\n",
       " 228: 1,\n",
       " 229: 1,\n",
       " 230: 1,\n",
       " 231: 1,\n",
       " 232: 1,\n",
       " 233: 1,\n",
       " 234: 1,\n",
       " 235: 1,\n",
       " 236: 1,\n",
       " 237: 1,\n",
       " 238: 1,\n",
       " 239: 1,\n",
       " 240: 1,\n",
       " 241: 1,\n",
       " 242: 1,\n",
       " 243: 1,\n",
       " 244: 1,\n",
       " 245: 1,\n",
       " 246: 1,\n",
       " 247: 1,\n",
       " 248: 1,\n",
       " 249: 1,\n",
       " 250: 1,\n",
       " 251: 1,\n",
       " 252: 1,\n",
       " 253: 1,\n",
       " 254: 1,\n",
       " 255: 1,\n",
       " 256: 1,\n",
       " 257: 1,\n",
       " 258: 1,\n",
       " 259: 1}"
      ]
     },
     "execution_count": 10,
     "metadata": {},
     "output_type": "execute_result"
    }
   ],
   "source": [
    "duloxetine_test"
   ]
  },
  {
   "cell_type": "code",
   "execution_count": 11,
   "metadata": {},
   "outputs": [
    {
     "name": "stdout",
     "output_type": "stream",
     "text": [
      "Key:95\n",
      "Key:98\n",
      "Key:101\n"
     ]
    }
   ],
   "source": [
    "for item in duloxetine_test.items():\n",
    "    if (len(test.get_all_rxn_smiles (test.get_branch_by_ix(item[0])))==4):\n",
    "        if 'C=O.CC(=O)c1cccs1.CNC>>CN(C)CCC(=O)c1cccs1' in test.get_all_rxn_smiles (test.get_branch_by_ix(item[0])):\n",
    "            print ('Key:{}'.format (item[0]))"
   ]
  },
  {
   "cell_type": "code",
   "execution_count": 60,
   "metadata": {},
   "outputs": [
    {
     "data": {
      "text/plain": [
       "['CN(C)CC[C@H](Oc1cccc2ccccc12)c1cccs1>>CNCC[C@H](Oc1cccc2ccccc12)c1cccs1',\n",
       " 'CN(C)CC[C@H](O)c1cccs1.Fc1cccc2ccccc12>>CN(C)CC[C@H](Oc1cccc2ccccc12)c1cccs1',\n",
       " 'CN(C)CCC(=O)c1cccs1>>CN(C)CC[C@H](O)c1cccs1',\n",
       " 'C=O.CC(=O)c1cccs1.CNC>>CN(C)CCC(=O)c1cccs1']"
      ]
     },
     "execution_count": 60,
     "metadata": {},
     "output_type": "execute_result"
    }
   ],
   "source": [
    "test.get_all_rxn_smiles (test.get_branch_by_ix(95))"
   ]
  },
  {
   "cell_type": "code",
   "execution_count": 61,
   "metadata": {},
   "outputs": [
    {
     "name": "stdout",
     "output_type": "stream",
     "text": [
      "The reaction SMILES is:CN(C)CC[C@H](Oc1cccc2ccccc12)c1cccs1>>CNCC[C@H](Oc1cccc2ccccc12)c1cccs1\n",
      "The product SMILES is: CNCC[C@H](Oc1cccc2ccccc12)c1cccs1\n",
      "The reactant SMILES list is: [['CN(C)CC[C@H](Oc1cccc2ccccc12)c1cccs1'], ['CN(C)CC[C@H](O)c1cccs1', 'Fc1cccc2ccccc12']]\n",
      "No enzymes applicable\n",
      "The reaction SMILES is:CN(C)CC[C@H](O)c1cccs1.Fc1cccc2ccccc12>>CN(C)CC[C@H](Oc1cccc2ccccc12)c1cccs1\n",
      "The product SMILES is: CN(C)CC[C@H](Oc1cccc2ccccc12)c1cccs1\n",
      "The reactant SMILES list is: [['CN(C)CC[C@H](O)c1cccs1', 'Fc1cccc2ccccc12']]\n",
      "No enzymes applicable\n",
      "The reaction SMILES is:CN(C)CCC(=O)c1cccs1>>CN(C)CC[C@H](O)c1cccs1\n",
      "The product SMILES is: CN(C)CC[C@H](O)c1cccs1\n",
      "The reactant SMILES list is: [['CN(C)CCC(=O)c1cccs1'], ['C=O', 'CC(=O)c1cccs1', 'CNC']]\n",
      "Enzyme name is: [('Ketone reduction', '[#6:1][#6:2]([#6:3])[#8H1:4]>>[#6:1][#6H0:2]([#6:3])=[#8:4]', 'Reduction', 'CN(C)CCC(=O)c1cccs1>>CN(C)CC[C@H](O)c1cccs1')]\n",
      "The reaction SMILES is:C=O.CC(=O)c1cccs1.CNC>>CN(C)CCC(=O)c1cccs1\n",
      "The product SMILES is: CN(C)CCC(=O)c1cccs1\n",
      "The reactant SMILES list is: [['C=O', 'CC(=O)c1cccs1', 'CNC']]\n",
      "No enzymes applicable\n"
     ]
    },
    {
     "data": {
      "text/plain": [
       "[[('Ketone reduction',\n",
       "   '[#6:1][#6:2]([#6:3])[#8H1:4]>>[#6:1][#6H0:2]([#6:3])=[#8:4]',\n",
       "   'Reduction',\n",
       "   'CN(C)CCC(=O)c1cccs1>>CN(C)CC[C@H](O)c1cccs1')]]"
      ]
     },
     "execution_count": 61,
     "metadata": {},
     "output_type": "execute_result"
    }
   ],
   "source": [
    "test.do_one_branch_detailed (95)"
   ]
  },
  {
   "cell_type": "code",
   "execution_count": 70,
   "metadata": {},
   "outputs": [
    {
     "data": {
      "text/plain": [
       "['COC(=O)NCC[C@H](Oc1cccc2ccccc12)c1cccs1>>CNCC[C@H](Oc1cccc2ccccc12)c1cccs1',\n",
       " 'COC(=O)Cl.NCC[C@H](Oc1cccc2ccccc12)c1cccs1>>COC(=O)NCC[C@H](Oc1cccc2ccccc12)c1cccs1',\n",
       " 'N#CC[C@H](Oc1cccc2ccccc12)c1cccs1>>NCC[C@H](Oc1cccc2ccccc12)c1cccs1',\n",
       " 'Fc1cccc2ccccc12.N#CC[C@H](O)c1cccs1>>N#CC[C@H](Oc1cccc2ccccc12)c1cccs1',\n",
       " 'N#CCC(=O)c1cccs1>>N#CC[C@H](O)c1cccs1']"
      ]
     },
     "execution_count": 70,
     "metadata": {},
     "output_type": "execute_result"
    }
   ],
   "source": [
    "test.get_all_rxn_smiles (test.get_branch_by_ix(42))"
   ]
  },
  {
   "cell_type": "code",
   "execution_count": 38,
   "metadata": {},
   "outputs": [
    {
     "data": {
      "text/plain": [
       "1"
      ]
     },
     "execution_count": 38,
     "metadata": {},
     "output_type": "execute_result"
    }
   ],
   "source": [
    "duloxetine_test[95]"
   ]
  },
  {
   "cell_type": "code",
   "execution_count": 39,
   "metadata": {},
   "outputs": [
    {
     "data": {
      "text/plain": [
       "1"
      ]
     },
     "execution_count": 39,
     "metadata": {},
     "output_type": "execute_result"
    }
   ],
   "source": [
    "duloxetine_test[98]"
   ]
  },
  {
   "cell_type": "code",
   "execution_count": 40,
   "metadata": {},
   "outputs": [
    {
     "data": {
      "text/plain": [
       "1"
      ]
     },
     "execution_count": 40,
     "metadata": {},
     "output_type": "execute_result"
    }
   ],
   "source": [
    "duloxetine_test[101]"
   ]
  },
  {
   "cell_type": "code",
   "execution_count": 71,
   "metadata": {},
   "outputs": [
    {
     "name": "stdout",
     "output_type": "stream",
     "text": [
      "The reaction SMILES is:COC(=O)NCC[C@H](Oc1cccc2ccccc12)c1cccs1>>CNCC[C@H](Oc1cccc2ccccc12)c1cccs1\n",
      "The product SMILES is: CNCC[C@H](Oc1cccc2ccccc12)c1cccs1\n",
      "The reactant SMILES list is: [['COC(=O)NCC[C@H](Oc1cccc2ccccc12)c1cccs1'], ['COC(=O)Cl', 'NCC[C@H](Oc1cccc2ccccc12)c1cccs1']]\n",
      "Enzyme name is: [('N-methylation', '[#6X4z1:1][Nz0:2][#6H3:3]>>[#6:1][N:2]', 'C-X bond formation', 'NCC[C@H](Oc1cccc2ccccc12)c1cccs1>>CNCC[C@H](Oc1cccc2ccccc12)c1cccs1')]\n",
      "The reaction SMILES is:COC(=O)Cl.NCC[C@H](Oc1cccc2ccccc12)c1cccs1>>COC(=O)NCC[C@H](Oc1cccc2ccccc12)c1cccs1\n",
      "The product SMILES is: COC(=O)NCC[C@H](Oc1cccc2ccccc12)c1cccs1\n",
      "The reactant SMILES list is: [['COC(=O)Cl', 'NCC[C@H](Oc1cccc2ccccc12)c1cccs1']]\n",
      "No enzymes applicable\n",
      "The reaction SMILES is:N#CC[C@H](Oc1cccc2ccccc12)c1cccs1>>NCC[C@H](Oc1cccc2ccccc12)c1cccs1\n",
      "The product SMILES is: NCC[C@H](Oc1cccc2ccccc12)c1cccs1\n",
      "The reactant SMILES list is: [['N#CC[C@H](Oc1cccc2ccccc12)c1cccs1'], ['Fc1cccc2ccccc12', 'N#CC[C@H](O)c1cccs1']]\n",
      "Enzyme name is: [('Nitrile reduction', '[#6:1][#6X4H2:2][NX3H2:3]>>[#6:1][#6X2:2]#[NX3:3]', 'Reduction', 'N#CC[C@H](Oc1cccc2ccccc12)c1cccs1>>NCC[C@H](Oc1cccc2ccccc12)c1cccs1')]\n",
      "The reaction SMILES is:Fc1cccc2ccccc12.N#CC[C@H](O)c1cccs1>>N#CC[C@H](Oc1cccc2ccccc12)c1cccs1\n",
      "The product SMILES is: N#CC[C@H](Oc1cccc2ccccc12)c1cccs1\n",
      "The reactant SMILES list is: [['Fc1cccc2ccccc12', 'N#CC[C@H](O)c1cccs1']]\n",
      "No enzymes applicable\n",
      "The reaction SMILES is:N#CCC(=O)c1cccs1>>N#CC[C@H](O)c1cccs1\n",
      "The product SMILES is: N#CC[C@H](O)c1cccs1\n",
      "The reactant SMILES list is: [['N#CCC(=O)c1cccs1']]\n",
      "Enzyme name is: [('Ketone reduction', '[#6:1][#6:2]([#6:3])[#8H1:4]>>[#6:1][#6H0:2]([#6:3])=[#8:4]', 'Reduction', 'N#CCC(=O)c1cccs1>>N#CC[C@H](O)c1cccs1')]\n"
     ]
    },
    {
     "data": {
      "text/plain": [
       "[[('N-methylation',\n",
       "   '[#6X4z1:1][Nz0:2][#6H3:3]>>[#6:1][N:2]',\n",
       "   'C-X bond formation',\n",
       "   'NCC[C@H](Oc1cccc2ccccc12)c1cccs1>>CNCC[C@H](Oc1cccc2ccccc12)c1cccs1')],\n",
       " [('Nitrile reduction',\n",
       "   '[#6:1][#6X4H2:2][NX3H2:3]>>[#6:1][#6X2:2]#[NX3:3]',\n",
       "   'Reduction',\n",
       "   'N#CC[C@H](Oc1cccc2ccccc12)c1cccs1>>NCC[C@H](Oc1cccc2ccccc12)c1cccs1')],\n",
       " [('Ketone reduction',\n",
       "   '[#6:1][#6:2]([#6:3])[#8H1:4]>>[#6:1][#6H0:2]([#6:3])=[#8:4]',\n",
       "   'Reduction',\n",
       "   'N#CCC(=O)c1cccs1>>N#CC[C@H](O)c1cccs1')]]"
      ]
     },
     "execution_count": 71,
     "metadata": {},
     "output_type": "execute_result"
    }
   ],
   "source": [
    "test.do_one_branch_detailed (42)"
   ]
  },
  {
   "cell_type": "markdown",
   "metadata": {},
   "source": [
    "# 2. Acrylamide synthesis"
   ]
  },
  {
   "cell_type": "markdown",
   "metadata": {},
   "source": [
    "Acryamide synthesis is presented as an example of the single-step biocatalysis opportunity identifier. The ASKCOS single-step predictor output was 'C=CC#N>>C=CC(N)=O'. Here, we check if this reaction is suitable for biocatalysis."
   ]
  },
  {
   "cell_type": "code",
   "execution_count": 2,
   "metadata": {},
   "outputs": [],
   "source": [
    "test = parse_askcos_output()"
   ]
  },
  {
   "cell_type": "code",
   "execution_count": 3,
   "metadata": {},
   "outputs": [],
   "source": [
    "template_set = pd.read_pickle(os.getcwd()+\"/retrobiocat_database.pkl\")"
   ]
  },
  {
   "cell_type": "code",
   "execution_count": 4,
   "metadata": {},
   "outputs": [
    {
     "data": {
      "text/plain": [
       "[('Nitrile hydrolysis (CONH)',\n",
       "  '[#6:1][#6X3H0:2](=[O:4])[NX3H2:3]>>[#6:1][#6X2H0:2]#[NX3H0:3]',\n",
       "  'Hydrolysis',\n",
       "  'C=CC#N>>C=CC(N)=O')]"
      ]
     },
     "execution_count": 4,
     "metadata": {},
     "output_type": "execute_result"
    }
   ],
   "source": [
    "test.enzymatic_step_id(template_set,'C=CC(N)=O',['C=CC#N'])"
   ]
  },
  {
   "cell_type": "code",
   "execution_count": null,
   "metadata": {},
   "outputs": [],
   "source": []
  }
 ],
 "metadata": {
  "kernelspec": {
   "display_name": "Python 3",
   "language": "python",
   "name": "python3"
  },
  "language_info": {
   "codemirror_mode": {
    "name": "ipython",
    "version": 3
   },
   "file_extension": ".py",
   "mimetype": "text/x-python",
   "name": "python",
   "nbconvert_exporter": "python",
   "pygments_lexer": "ipython3",
   "version": "3.7.6"
  }
 },
 "nbformat": 4,
 "nbformat_minor": 4
}
